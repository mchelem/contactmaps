{
 "cells": [
  {
   "cell_type": "code",
   "execution_count": 1,
   "metadata": {
    "collapsed": false
   },
   "outputs": [],
   "source": [
    "from collections import defaultdict\n",
    "\n",
    "# importing first because https://github.com/tensorflow/tensorflow/issues/2903\n",
    "import tensorflow as tf\n",
    "from tensorflow.contrib import learn\n",
    "\n",
    "import matplotlib\n",
    "import matplotlib.pyplot as plt\n",
    "import numpy as np\n",
    "import pandas as pd\n",
    "import sklearn\n",
    "import sklearn.datasets\n",
    "\n",
    "\n",
    "import features_database\n",
    "\n",
    "%matplotlib inline"
   ]
  },
  {
   "cell_type": "code",
   "execution_count": 118,
   "metadata": {
    "collapsed": false
   },
   "outputs": [],
   "source": [
    "sa_threshold = 0.25\n",
    "distance_threshold = 8\n",
    "\n",
    "dssp_to_3 = defaultdict(\n",
    "    lambda : 'C', \n",
    "    H='H',\n",
    "    G='H',\n",
    "    I='H',\n",
    "    E='E'\n",
    ")\n",
    "\n",
    "ss_encoder = {\n",
    "    'H': [1, 0, 0],\n",
    "    'E': [0, 1, 0],\n",
    "    'C': [0, 0, 1],   \n",
    "}\n",
    "\n",
    "window_size = 9\n",
    "buffer = window_size // 2\n",
    "feature_vector_size = 25\n",
    "seq_len = 30"
   ]
  },
  {
   "cell_type": "code",
   "execution_count": 84,
   "metadata": {
    "collapsed": true
   },
   "outputs": [],
   "source": [
    "db = features_database.SpatialFeaturesDatabase('spatial_features.db')\n",
    "structure_id = 'd16vpa_'\n",
    "structure = db.retrieve(structure_id)"
   ]
  },
  {
   "cell_type": "code",
   "execution_count": 85,
   "metadata": {
    "collapsed": false
   },
   "outputs": [],
   "source": [
    "def feature_vector(structure, residue):\n",
    "    features = np.ndarray(shape=(feature_vector_size))\n",
    "    features[0:20] = structure['pssm'][residue]\n",
    "    features[20:23] = ss_encoder[dssp_to_3[structure['secondary_structure'][residue]]]\n",
    "    features[23:25] = [1, 0] if structure['solvent_accessibility'][residue] > sa_threshold else [0, 1]\n",
    "    return features\n",
    "\n",
    "def feature_vectors(structure, i, j, window_size):\n",
    "    features_i = np.empty(shape=(0,))\n",
    "    features_j = np.empty(shape=(0,))\n",
    "    \n",
    "    for index in range (i - window_size // 2, i + window_size // 2 + 1):\n",
    "        features_i = np.concatenate([features_i, feature_vector(structure, index)])\n",
    "    \n",
    "    for index in range (j - window_size // 2, j + window_size // 2 + 1):\n",
    "         features_j = np.concatenate([features_j, feature_vector(structure, index)])\n",
    "                           \n",
    "    cmap = structure['distance_map'][i][j] < distance_threshold\n",
    "    return features_i, features_j, int(cmap)\n",
    "\n"
   ]
  },
  {
   "cell_type": "code",
   "execution_count": 86,
   "metadata": {
    "collapsed": false
   },
   "outputs": [
    {
     "name": "stdout",
     "output_type": "stream",
     "text": [
      "[-2. -3. -3. -4. -2. -3. -3. -3. -1.  0.  0. -3.  0.  6. -4. -2. -2.  1.\n",
      "  3. -1.  0.  1.  0.  1.  0. -1. -2. -3. -4. -1. -2. -3. -4. -3.  2.  4.\n",
      " -2.  2.  0. -3. -2. -1. -2. -1.  1.  0.  0.  1.  1.  0.  1. -1.  1.  0.\n",
      " -1.  0.  0.  0. -1. -2. -2.  0. -2. -2. -1.  4.  1. -3. -2. -2.  0.  0.\n",
      "  1.  1.  0. -1.  6.  0. -2. -3.  1.  0. -2.  0. -3. -2.  2. -1. -3. -2.\n",
      " -1. -1. -3. -2. -3.  0.  0.  1.  1.  0. -1. -1. -2. -3. -1.  0. -2. -3.\n",
      " -2.  1.  2. -1.  5.  0. -3. -2. -1. -1. -1.  1.  0.  0.  1.  1.  0. -1.\n",
      " -2. -2. -2. -3. -1. -1. -2. -2. -3. -3. -1. -3. -4.  7. -1. -1. -4. -3.\n",
      " -2.  0.  0.  1.  0.  1.  1. -1.  1.  0. -1.  0.  0.  0. -1. -2. -2.  0.\n",
      " -2. -2. -1.  4.  1. -3. -2. -2.  0.  0.  1.  1.  0. -1. -2. -2. -2. -3.\n",
      " -1. -1. -2. -2. -3. -3. -1. -3. -4.  7. -1. -1. -4. -3. -2.  0.  0.  1.\n",
      "  1.  0. -1. -2. -2. -2. -3. -1. -1. -2. -2. -3. -3. -1. -3. -4.  7. -1.\n",
      " -1. -4. -3. -2.  0.  0.  1.  0.  1.] (225,) 0\n",
      "Feature vector size should be 225\n",
      "Contact between residue and itself should be 1\n"
     ]
    }
   ],
   "source": [
    "features_i, features_j, cmap = feature_vectors(structure, 2, 7, window_size)\n",
    "print(features_i, features_i.shape, cmap)\n",
    "print('Feature vector size should be', len(features_i))\n",
    "\n",
    "features_i, features_j, cmap = feature_vectors(structure, 2, 2, window_size)\n",
    "print('Contact between residue and itself should be', cmap)"
   ]
  },
  {
   "cell_type": "code",
   "execution_count": 87,
   "metadata": {
    "collapsed": false
   },
   "outputs": [
    {
     "data": {
      "text/plain": [
       "228"
      ]
     },
     "execution_count": 87,
     "metadata": {},
     "output_type": "execute_result"
    }
   ],
   "source": [
    "len(structure['distance_map']) ** 2\n",
    "(structure['distance_map'] < distance_threshold).astype(int)[:seq_len, :seq_len].sum()"
   ]
  },
  {
   "cell_type": "code",
   "execution_count": 103,
   "metadata": {
    "collapsed": true
   },
   "outputs": [],
   "source": [
    "def get_next_training_sample(balance=True):\n",
    "    negatives = 0\n",
    "    contacts = structure['distance_map'] < distance_threshold\n",
    "    max_negatives = contacts.astype(int)[:seq_len, :seq_len].sum()\n",
    "    sequence_len = min(seq_len, len(structure['sequence']))\n",
    "    for i, j in itertools.product(range(buffer, sequence_len - buffer), range(buffer, sequence_len - buffer)):\n",
    "        features_i, features_j, cmap = feature_vectors(structure, i, j, window_size)\n",
    "        if not balance:\n",
    "            yield np.concatenate([features_i, features_j]), cmap\n",
    "        else:\n",
    "            if cmap == 0 and negatives < max_negatives:\n",
    "                yield np.concatenate([features_i, features_j]), cmap\n",
    "                negatives += 1\n",
    "            elif cmap == 1:\n",
    "                yield np.concatenate([features_i, features_j]), cmap\n",
    "    "
   ]
  },
  {
   "cell_type": "code",
   "execution_count": 104,
   "metadata": {
    "collapsed": false
   },
   "outputs": [],
   "source": [
    "import itertools\n",
    "\n",
    "number_of_residues = 2\n",
    "\n",
    "astral = sklearn.datasets.base.Bunch()\n",
    "astral.data = np.empty(shape=(0, window_size * feature_vector_size * number_of_residues))\n",
    "astral.target = np.empty(shape=(0, 1), dtype=np.int32)\n",
    "\n",
    "for features, cmap in get_next_training_sample():\n",
    "    astral.data = np.vstack([astral.data, features])\n",
    "    astral.target = np.vstack([astral.target, cmap])"
   ]
  },
  {
   "cell_type": "code",
   "execution_count": 105,
   "metadata": {
    "collapsed": false
   },
   "outputs": [
    {
     "data": {
      "text/plain": [
       "(400, 1)"
      ]
     },
     "execution_count": 105,
     "metadata": {},
     "output_type": "execute_result"
    }
   ],
   "source": [
    "astral.target.shape"
   ]
  },
  {
   "cell_type": "code",
   "execution_count": 91,
   "metadata": {
    "collapsed": false
   },
   "outputs": [
    {
     "name": "stderr",
     "output_type": "stream",
     "text": [
      "/home/tars/.virtualenvs/tensorflow/lib/python3.5/site-packages/tensorflow/python/ops/array_ops.py:1197: VisibleDeprecationWarning: converting an array with ndim > 0 to an index will result in an error in the future\n",
      "  result_shape.insert(dim, 1)\n"
     ]
    },
    {
     "data": {
      "text/plain": [
       "DNNClassifier()"
      ]
     },
     "execution_count": 91,
     "metadata": {},
     "output_type": "execute_result"
    }
   ],
   "source": [
    "from sklearn import datasets, metrics\n",
    "    \n",
    "classifier = learn.DNNClassifier(hidden_units=[128], n_classes=2)\n",
    "classifier.fit(astral.data, astral.target, steps=200)\n"
   ]
  },
  {
   "cell_type": "code",
   "execution_count": 92,
   "metadata": {
    "collapsed": true
   },
   "outputs": [],
   "source": [
    "def get_next_test_sample():\n",
    "    sequence_len = min(seq_len, len(structure['sequence']))\n",
    "    buffer = window_size // 2\n",
    "\n",
    "    for i, j in itertools.product(range(buffer, sequence_len - buffer), range(buffer, sequence_len - buffer)):\n",
    "        features_i, features_j, cmap = feature_vectors(structure, i, j, window_size)\n",
    "        yield np.concatenate([features_i, features_j]), cmap\n",
    "            \n",
    "astral_test = sklearn.datasets.base.Bunch()\n",
    "astral_test.data = np.empty(shape=(0, window_size * feature_vector_size * number_of_residues))\n",
    "astral_test.target = np.empty(shape=(0, 1), dtype=np.int32)\n",
    "\n",
    "for features, cmap in get_next_test_sample():\n",
    "    astral_test.data = np.vstack([astral_test.data, features])\n",
    "    astral_test.target = np.vstack([astral_test.target, cmap])"
   ]
  },
  {
   "cell_type": "code",
   "execution_count": 93,
   "metadata": {
    "collapsed": false
   },
   "outputs": [
    {
     "name": "stdout",
     "output_type": "stream",
     "text": [
      "Training set accuracy: 1.000000\n"
     ]
    }
   ],
   "source": [
    "training_predicted = classifier.predict(astral.data)\n",
    "score = sklearn.metrics.accuracy_score(astral.target, training_predicted)\n",
    "print(\"Training set accuracy: %f\" % score)"
   ]
  },
  {
   "cell_type": "code",
   "execution_count": 94,
   "metadata": {
    "collapsed": false
   },
   "outputs": [
    {
     "name": "stdout",
     "output_type": "stream",
     "text": [
      "Test set accuracy: 0.832645\n"
     ]
    }
   ],
   "source": [
    "test_predicted = classifier.predict(astral_test.data)\n",
    "score = sklearn.metrics.accuracy_score(astral_test.target, test_predicted)\n",
    "print(\"Test set accuracy: %f\" % score)"
   ]
  },
  {
   "cell_type": "code",
   "execution_count": 110,
   "metadata": {
    "collapsed": false
   },
   "outputs": [
    {
     "data": {
      "text/plain": [
       "(484, 1)"
      ]
     },
     "execution_count": 110,
     "metadata": {},
     "output_type": "execute_result"
    }
   ],
   "source": [
    "astral_test.target.shape"
   ]
  },
  {
   "cell_type": "code",
   "execution_count": 95,
   "metadata": {
    "collapsed": false
   },
   "outputs": [],
   "source": [
    "from pconpy import pconpy\n",
    "astral_filepath = \"astral/pdbstyle-2.06/\" \n",
    "dataset = pd.read_csv('astral/dataset.xls', sep='\\s+')\n",
    "structures = dataset['DOMAIN'].tolist()\n",
    "\n",
    "filename = astral_filepath + structure_id[2:4]  + \"/\" + structure_id + \".ent\"\n",
    "residues = pconpy.get_residues(filename)\n",
    "distance_map = pconpy.calc_dist_matrix(residues).filled(0)"
   ]
  },
  {
   "cell_type": "code",
   "execution_count": 96,
   "metadata": {
    "collapsed": false
   },
   "outputs": [
    {
     "data": {
      "text/plain": [
       "(311, 311)"
      ]
     },
     "execution_count": 96,
     "metadata": {},
     "output_type": "execute_result"
    }
   ],
   "source": [
    "distance_map.shape"
   ]
  },
  {
   "cell_type": "code",
   "execution_count": 120,
   "metadata": {
    "collapsed": false
   },
   "outputs": [
    {
     "data": {
      "text/plain": [
       "<matplotlib.collections.PolyCollection at 0x7f8f7a4a0b70>"
      ]
     },
     "execution_count": 120,
     "metadata": {},
     "output_type": "execute_result"
    },
    {
     "data": {
      "image/png": "[encoded data removed]",
      "text/plain": [
       "<matplotlib.figure.Figure at 0x7f8f7afc21d0>"
      ]
     },
     "metadata": {},
     "output_type": "display_data"
    }
   ],
   "source": [
    "slice_len = min(seq_len, len(structure['sequence'])) - 2 * buffer\n",
    "\n",
    "contacts = (structure['distance_map'] < distance_threshold).astype(int)[:seq_len, :seq_len]\n",
    "plt.pcolor(contacts, cmap=matplotlib.cm.Greys)"
   ]
  },
  {
   "cell_type": "code",
   "execution_count": 121,
   "metadata": {
    "collapsed": false
   },
   "outputs": [
    {
     "data": {
      "text/plain": [
       "<matplotlib.collections.PolyCollection at 0x7f8f79871588>"
      ]
     },
     "execution_count": 121,
     "metadata": {},
     "output_type": "execute_result"
    },
    {
     "data": {
      "image/png": "[encoded data removed]",
      "text/plain": [
       "<matplotlib.figure.Figure at 0x7f8f79c5d898>"
      ]
     },
     "metadata": {},
     "output_type": "display_data"
    }
   ],
   "source": [
    "plt.pcolor(test_predicted.reshape(slice_len, slice_len), cmap=matplotlib.cm.Greys)"
   ]
  },
  {
   "cell_type": "code",
   "execution_count": 122,
   "metadata": {
    "collapsed": false
   },
   "outputs": [
    {
     "data": {
      "text/plain": [
       "array([[1, 1, 1, 0, 0, 0, 0, 0, 0, 0, 0, 0, 0, 0, 0, 0, 0, 1, 0, 0, 0, 0],\n",
       "       [1, 1, 1, 1, 0, 0, 0, 0, 0, 0, 0, 0, 0, 0, 0, 0, 0, 0, 0, 0, 0, 0],\n",
       "       [1, 1, 1, 1, 1, 0, 0, 0, 0, 0, 1, 0, 0, 1, 0, 0, 0, 0, 0, 0, 0, 0],\n",
       "       [0, 1, 1, 1, 1, 1, 0, 0, 0, 0, 1, 0, 0, 0, 0, 0, 0, 0, 0, 0, 0, 0],\n",
       "       [0, 0, 1, 1, 1, 1, 1, 0, 0, 0, 1, 0, 0, 0, 0, 0, 0, 0, 0, 0, 0, 0],\n",
       "       [0, 0, 0, 1, 1, 1, 1, 1, 1, 1, 1, 0, 0, 0, 0, 0, 0, 0, 0, 0, 0, 0],\n",
       "       [0, 0, 0, 0, 1, 1, 1, 1, 1, 1, 1, 0, 0, 0, 0, 0, 0, 0, 0, 0, 0, 0],\n",
       "       [0, 0, 0, 0, 0, 1, 1, 1, 1, 1, 1, 1, 0, 0, 0, 0, 0, 0, 0, 0, 0, 0],\n",
       "       [0, 0, 0, 0, 0, 1, 1, 1, 1, 1, 1, 1, 1, 0, 0, 0, 0, 0, 0, 0, 0, 0],\n",
       "       [0, 0, 0, 0, 0, 1, 1, 1, 1, 1, 1, 1, 1, 1, 0, 0, 0, 0, 0, 0, 0, 0]])"
      ]
     },
     "execution_count": 122,
     "metadata": {},
     "output_type": "execute_result"
    }
   ],
   "source": [
    "test_predicted.reshape(slice_len, slice_len)[:10][:10]"
   ]
  },
  {
   "cell_type": "code",
   "execution_count": null,
   "metadata": {
    "collapsed": true
   },
   "outputs": [],
   "source": []
  }
 ],
 "metadata": {
  "kernelspec": {
   "display_name": "Python 3",
   "language": "python",
   "name": "python3"
  },
  "language_info": {
   "codemirror_mode": {
    "name": "ipython",
    "version": 3
   },
   "file_extension": ".py",
   "mimetype": "text/x-python",
   "name": "python",
   "nbconvert_exporter": "python",
   "pygments_lexer": "ipython3",
   "version": "3.5.1+"
  }
 },
 "nbformat": 4,
 "nbformat_minor": 0
}
